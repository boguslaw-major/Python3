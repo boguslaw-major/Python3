{
  "nbformat": 4,
  "nbformat_minor": 0,
  "metadata": {
    "colab": {
      "name": "Untitled30.ipynb",
      "provenance": [],
      "authorship_tag": "ABX9TyNhPn8oL89Tf9LzcKMv5j4a",
      "include_colab_link": true
    },
    "kernelspec": {
      "name": "python3",
      "display_name": "Python 3"
    }
  },
  "cells": [
    {
      "cell_type": "markdown",
      "metadata": {
        "id": "view-in-github",
        "colab_type": "text"
      },
      "source": [
        "<a href=\"https://colab.research.google.com/github/boguslaw-major/Python3/blob/master/genFibonacciego.ipynb\" target=\"_parent\"><img src=\"https://colab.research.google.com/assets/colab-badge.svg\" alt=\"Open In Colab\"/></a>"
      ]
    },
    {
      "cell_type": "code",
      "metadata": {
        "id": "-GFzk7Ds2EyT",
        "colab_type": "code",
        "colab": {
          "base_uri": "https://localhost:8080/",
          "height": 34
        },
        "outputId": "3f94bd36-2ed8-4a17-976e-1690b3e69867"
      },
      "source": [
        "def genFibonacciego(n):\n",
        "  a,b=0,1\n",
        "  for i in range(n+1):\n",
        "    yield a\n",
        "    a,b=b,a+b\n",
        "\n",
        "print(list(genFibonacciego(6)))\n",
        "\n",
        "      "
      ],
      "execution_count": 34,
      "outputs": [
        {
          "output_type": "stream",
          "text": [
            "[0, 1, 1, 2, 3, 5, 8]\n"
          ],
          "name": "stdout"
        }
      ]
    }
  ]
}