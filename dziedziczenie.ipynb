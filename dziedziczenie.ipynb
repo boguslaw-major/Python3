{
  "nbformat": 4,
  "nbformat_minor": 0,
  "metadata": {
    "colab": {
      "name": "Untitled31.ipynb",
      "provenance": [],
      "authorship_tag": "ABX9TyM5ZPt44n95823NVek32LJt",
      "include_colab_link": true
    },
    "kernelspec": {
      "name": "python3",
      "display_name": "Python 3"
    }
  },
  "cells": [
    {
      "cell_type": "markdown",
      "metadata": {
        "id": "view-in-github",
        "colab_type": "text"
      },
      "source": [
        "<a href=\"https://colab.research.google.com/github/boguslaw-major/Python3/blob/master/dziedziczenie.ipynb\" target=\"_parent\"><img src=\"https://colab.research.google.com/assets/colab-badge.svg\" alt=\"Open In Colab\"/></a>"
      ]
    },
    {
      "cell_type": "code",
      "metadata": {
        "id": "KgM6T7IPG3An",
        "colab_type": "code",
        "colab": {
          "base_uri": "https://localhost:8080/",
          "height": 272
        },
        "outputId": "427e260f-2933-4967-bd6e-3da6039ebe8f"
      },
      "source": [
        "class Animal:\n",
        "  def __init__(self, name,age):\n",
        "    self.name=name\n",
        "    self.age=age\n",
        "\n",
        "class Dog(Animal):\n",
        "  def voice(self):\n",
        "    print(\"How How\")\n",
        "\n",
        "dog=Dog(\"Reksio\", 10)\n",
        "print(dog.name)\n",
        "print(dog.age)\n",
        "dog.voice()\n",
        "\n",
        "dog1=Dog(\"Burek\", 20)\n",
        "print(dog1.name)\n",
        "print(dog1.age)\n",
        "dog.voice()\n",
        "\n",
        "dog2=Dog(\"Name\", 15)\n",
        "print(dog2.name)\n",
        "print(dog2.age)\n",
        "dog.voice()\n",
        "\n",
        "dog3=Dog(\"Stasio\", 5)\n",
        "print(dog3.name)\n",
        "print(dog3.age)\n",
        "dog3.voice()\n",
        "\n",
        "class Cat(Animal):\n",
        "\n",
        "  def getVoice(self):\n",
        "    print(\"Mau Mau\")\n",
        "\n",
        "cat=Cat(\"Bury\", 2)\n",
        "print(cat.name)\n",
        "print(cat.age)\n",
        "cat.getVoice()\n",
        "\n",
        "\n"
      ],
      "execution_count": 57,
      "outputs": [
        {
          "output_type": "stream",
          "text": [
            "Reksio\n",
            "10\n",
            "How How\n",
            "Burek\n",
            "20\n",
            "How How\n",
            "Name\n",
            "15\n",
            "How How\n",
            "Stasio\n",
            "5\n",
            "How How\n",
            "Bury\n",
            "2\n",
            "Mau Mau\n"
          ],
          "name": "stdout"
        }
      ]
    },
    {
      "cell_type": "code",
      "metadata": {
        "id": "c2OQmBrQn3oM",
        "colab_type": "code",
        "colab": {}
      },
      "source": [
        ""
      ],
      "execution_count": 0,
      "outputs": []
    }
  ]
}