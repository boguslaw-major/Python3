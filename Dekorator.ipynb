{
  "nbformat": 4,
  "nbformat_minor": 0,
  "metadata": {
    "colab": {
      "name": "Untitled31.ipynb",
      "provenance": [],
      "authorship_tag": "ABX9TyNs9312C5nSgr2nSnXEZzF+",
      "include_colab_link": true
    },
    "kernelspec": {
      "name": "python3",
      "display_name": "Python 3"
    }
  },
  "cells": [
    {
      "cell_type": "markdown",
      "metadata": {
        "id": "view-in-github",
        "colab_type": "text"
      },
      "source": [
        "<a href=\"https://colab.research.google.com/github/boguslaw-major/Python3/blob/master/Dekorator.ipynb\" target=\"_parent\"><img src=\"https://colab.research.google.com/assets/colab-badge.svg\" alt=\"Open In Colab\"/></a>"
      ]
    },
    {
      "cell_type": "code",
      "metadata": {
        "id": "NbsWoeZOdr64",
        "colab_type": "code",
        "colab": {
          "base_uri": "https://localhost:8080/",
          "height": 255
        },
        "outputId": "d108d405-8e6d-49ad-bec9-d2da91329375"
      },
      "source": [
        "def decorator(funkc):\n",
        "  def wraper():\n",
        "\n",
        "    print(\"--------------------\")\n",
        "    funkc()\n",
        "    print(\"--------------------\")\n",
        "  return wraper\n",
        "\n",
        "@decorator\n",
        "\n",
        "def witaj():\n",
        "  print(\"Witaj Swiecie\")\n",
        "\n",
        "witaj()\n",
        "\n",
        "witaj2=witaj\n",
        "witaj2()\n",
        "print(\"3 wywoalnie dekoratora: \")\n",
        "witaj3=witaj\n",
        "witaj3()\n",
        "\n",
        "#wywolanie 3 decoratora za pomoca funkcji hello\n",
        "print(\"wywolanie 3 decoratora za pomoca funkcji hello\")\n",
        "def hello():\n",
        "\n",
        "  print(\"Hello World\")\n",
        "\n",
        "hello2=decorator(hello)\n",
        "hello2()\n",
        "\n"
      ],
      "execution_count": 40,
      "outputs": [
        {
          "output_type": "stream",
          "text": [
            "--------------------\n",
            "Witaj Swiecie\n",
            "--------------------\n",
            "--------------------\n",
            "Witaj Swiecie\n",
            "--------------------\n",
            "3 wywoalnie dekoratora: \n",
            "--------------------\n",
            "Witaj Swiecie\n",
            "--------------------\n",
            "wywolanie 3 decoratora za pomoca funkcji hello\n",
            "--------------------\n",
            "Hello World\n",
            "--------------------\n"
          ],
          "name": "stdout"
        }
      ]
    },
    {
      "cell_type": "code",
      "metadata": {
        "id": "c2OQmBrQn3oM",
        "colab_type": "code",
        "colab": {}
      },
      "source": [
        ""
      ],
      "execution_count": 0,
      "outputs": []
    }
  ]
}