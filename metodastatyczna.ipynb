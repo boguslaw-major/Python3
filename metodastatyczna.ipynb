{
  "nbformat": 4,
  "nbformat_minor": 0,
  "metadata": {
    "colab": {
      "name": "Untitled28.ipynb",
      "provenance": [],
      "authorship_tag": "ABX9TyPwI65St6I+BVBkaNfNzgSu",
      "include_colab_link": true
    },
    "kernelspec": {
      "name": "python3",
      "display_name": "Python 3"
    }
  },
  "cells": [
    {
      "cell_type": "markdown",
      "metadata": {
        "id": "view-in-github",
        "colab_type": "text"
      },
      "source": [
        "<a href=\"https://colab.research.google.com/github/boguslaw-major/Python3/blob/master/metodastatyczna.ipynb\" target=\"_parent\"><img src=\"https://colab.research.google.com/assets/colab-badge.svg\" alt=\"Open In Colab\"/></a>"
      ]
    },
    {
      "cell_type": "code",
      "metadata": {
        "id": "RWve64sDL2wL",
        "colab_type": "code",
        "colab": {
          "base_uri": "https://localhost:8080/",
          "height": 68
        },
        "outputId": "98d3c72f-e54a-4f58-9491-95ca8c5d9346"
      },
      "source": [
        "class Kulki():\n",
        "  ilosc_kulek=0\n",
        "  def __init__(self,imie):\n",
        "    self.imie=imie\n",
        "    Kulki.ilosc_kulek+=1\n",
        "  @staticmethod\n",
        "  def getIloscKulek():\n",
        "    print(\"Aktualna liczna bulek to\", Kulki.ilosc_kulek)\n",
        "\n",
        "\n",
        "Kulki.getIloscKulek()\n",
        "kulka1=Kulki(\"biala\")\n",
        "Kulki.getIloscKulek()\n",
        "kulka2=Kulki(\"biala\")\n",
        "Kulki.getIloscKulek()\n",
        "\n"
      ],
      "execution_count": 45,
      "outputs": [
        {
          "output_type": "stream",
          "text": [
            "Aktualna liczna bulek to 0\n",
            "Aktualna liczna bulek to 1\n",
            "Aktualna liczna bulek to 2\n"
          ],
          "name": "stdout"
        }
      ]
    },
    {
      "cell_type": "code",
      "metadata": {
        "id": "qj34RfJGAH3I",
        "colab_type": "code",
        "colab": {}
      },
      "source": [
        ""
      ],
      "execution_count": 0,
      "outputs": []
    },
    {
      "cell_type": "code",
      "metadata": {
        "id": "rYFLm5D0Ra1r",
        "colab_type": "code",
        "colab": {}
      },
      "source": [
        ""
      ],
      "execution_count": 0,
      "outputs": []
    }
  ]
}