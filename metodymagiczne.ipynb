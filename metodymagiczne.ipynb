{
  "nbformat": 4,
  "nbformat_minor": 0,
  "metadata": {
    "colab": {
      "name": "Untitled28.ipynb",
      "provenance": [],
      "authorship_tag": "ABX9TyOQNfbau4GgQnzmtFbS5KLd",
      "include_colab_link": true
    },
    "kernelspec": {
      "name": "python3",
      "display_name": "Python 3"
    }
  },
  "cells": [
    {
      "cell_type": "markdown",
      "metadata": {
        "id": "view-in-github",
        "colab_type": "text"
      },
      "source": [
        "<a href=\"https://colab.research.google.com/github/boguslaw-major/Python3/blob/master/metodymagiczne.ipynb\" target=\"_parent\"><img src=\"https://colab.research.google.com/assets/colab-badge.svg\" alt=\"Open In Colab\"/></a>"
      ]
    },
    {
      "cell_type": "code",
      "metadata": {
        "id": "RWve64sDL2wL",
        "colab_type": "code",
        "colab": {
          "base_uri": "https://localhost:8080/",
          "height": 119
        },
        "outputId": "e40c159e-4d02-49bb-8fb4-edd4fccbc842"
      },
      "source": [
        "class Kalkulator():\n",
        "\n",
        "  def __init__(self):\n",
        "    print(\"Init\")\n",
        "\n",
        "  \n",
        "  def __del__(self):\n",
        "    print(\"Del\")\n",
        "\n",
        "  def __str__(self):\n",
        "\n",
        "    return \"Hellocccccccnbfmhjf\"\n",
        "  \n",
        "  def dodaj(self, a, b):\n",
        "    wynik=a+b\n",
        "    print(wynik)\n",
        "\n",
        "  \n",
        "  def odejmij(self, a, b):\n",
        "    wynik=a-b\n",
        "    print(wynik)\n",
        "\n",
        "kalk=Kalkulator()\n",
        "\n",
        "kalk1=Kalkulator()\n",
        "\n",
        "kalk.dodaj(10,10)\n",
        "\n",
        "print(str(kalk))\n",
        "\n"
      ],
      "execution_count": 40,
      "outputs": [
        {
          "output_type": "stream",
          "text": [
            "Init\n",
            "Del\n",
            "Init\n",
            "Del\n",
            "20\n",
            "Hellocccccccnbfmhjf\n"
          ],
          "name": "stdout"
        }
      ]
    },
    {
      "cell_type": "code",
      "metadata": {
        "id": "qj34RfJGAH3I",
        "colab_type": "code",
        "colab": {}
      },
      "source": [
        ""
      ],
      "execution_count": 0,
      "outputs": []
    },
    {
      "cell_type": "code",
      "metadata": {
        "id": "rYFLm5D0Ra1r",
        "colab_type": "code",
        "colab": {}
      },
      "source": [
        ""
      ],
      "execution_count": 0,
      "outputs": []
    }
  ]
}