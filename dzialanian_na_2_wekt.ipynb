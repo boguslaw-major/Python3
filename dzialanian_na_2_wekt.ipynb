{
  "nbformat": 4,
  "nbformat_minor": 0,
  "metadata": {
    "colab": {
      "name": "Untitled24.ipynb",
      "provenance": [],
      "authorship_tag": "ABX9TyN8rxCZT0pmbB0y1iZSuNgO",
      "include_colab_link": true
    },
    "kernelspec": {
      "name": "python3",
      "display_name": "Python 3"
    }
  },
  "cells": [
    {
      "cell_type": "markdown",
      "metadata": {
        "id": "view-in-github",
        "colab_type": "text"
      },
      "source": [
        "<a href=\"https://colab.research.google.com/github/boguslaw-major/Python3/blob/master/dzialanian_na_2_wekt.ipynb\" target=\"_parent\"><img src=\"https://colab.research.google.com/assets/colab-badge.svg\" alt=\"Open In Colab\"/></a>"
      ]
    },
    {
      "cell_type": "code",
      "metadata": {
        "id": "iqYRTgem_r5O",
        "colab_type": "code",
        "colab": {
          "base_uri": "https://localhost:8080/",
          "height": 90
        },
        "outputId": "51979ebf-ebcb-487e-e227-1a9c9afd7f77"
      },
      "source": [
        "#klasa działania na 2 wektorach (x,y)\n",
        "import math\n",
        "\n",
        "class Wektor:\n",
        "    #inicjalizacja metodą ktorą wywoływana jest gdy tworzymy nowy obiekt\n",
        "    def __init__(tunczyk, x=0.0, y=0.0):\n",
        "        tunczyk.x = x\n",
        "        tunczyk.y = y\n",
        "\n",
        "    #chcemy aby dla naszych obiektow działało +\n",
        "    def __add__(self, other):\n",
        "        return Wektor(self.x + other.x, self.y + other.y)\n",
        "\n",
        "    #chcemy aby dla naszych obiektow działało +=\n",
        "    def __isadd__(self,other):\n",
        "        self.x += other.x\n",
        "        self.y += other.y\n",
        "        return self\n",
        "\n",
        "    #chcemy aby dla naszych obiektow działał0 -\n",
        "    def __sub__(self, other):\n",
        "        return Wektor(self.x - other.x, self.y - other.y)\n",
        "\n",
        "    #chcemy aby dla naszych obiektow działało *\n",
        "    def __mul__(self, other):\n",
        "        return Wektor(self.x * other.x, self.y * other.y)\n",
        "    \n",
        "    #chcemy aby dla naszych obiektów działało /\n",
        "    def __div__(self, other):\n",
        "        return Wektor(self.x / other.x, self.y / other.y)\n",
        "\n",
        "    #liczymy dlugosc\n",
        "    def dlugosc(self):\n",
        "        return int(math.sqrt(self.x**2+self.y**2))\n",
        "\n",
        "    #liczymy kat\n",
        "    def kat(self):\n",
        "        return int(math.degrees(math.atan2(self.y,self.x)))\n",
        "\n",
        "    #wyswietlamy info\n",
        "    def wyswietl(self):\n",
        "        return 'Wspolrzedna x to ' + str(self.x) + ' Wspolrzedna y to ' + str(self.y) + ' Dlugosc wektora to ' + str(self.dlugosc())+ ' Kat wektora to ' + str(self.kat())\n",
        "        \n",
        "wektor1 = Wektor(6,2)\n",
        "wektor2 = Wektor(4,8)\n",
        "wektor3 = wektor1 + wektor2\n",
        "wektor3 += wektor2\n",
        "wektor4 = wektor1*wektor2\n",
        "\n",
        "print('Wektor1: ',wektor1.wyswietl())\n",
        "print('Wektor2: ',wektor2.wyswietl())\n",
        "print('Wektor3: ',wektor3.wyswietl())\n",
        "print('Wektor4: ',wektor4.wyswietl())"
      ],
      "execution_count": 16,
      "outputs": [
        {
          "output_type": "stream",
          "text": [
            "Wektor1:  Wspolrzedna x to 6 Wspolrzedna y to 2 Dlugosc wektora to 6 Kat wektora to 18\n",
            "Wektor2:  Wspolrzedna x to 4 Wspolrzedna y to 8 Dlugosc wektora to 8 Kat wektora to 63\n",
            "Wektor3:  Wspolrzedna x to 14 Wspolrzedna y to 18 Dlugosc wektora to 22 Kat wektora to 52\n",
            "Wektor4:  Wspolrzedna x to 24 Wspolrzedna y to 16 Dlugosc wektora to 28 Kat wektora to 33\n"
          ],
          "name": "stdout"
        }
      ]
    }
  ]
}