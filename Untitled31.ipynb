{
  "nbformat": 4,
  "nbformat_minor": 0,
  "metadata": {
    "colab": {
      "name": "Untitled31.ipynb",
      "provenance": [],
      "authorship_tag": "ABX9TyN7pEJ9cb926C3WFEcw44nX",
      "include_colab_link": true
    },
    "kernelspec": {
      "name": "python3",
      "display_name": "Python 3"
    }
  },
  "cells": [
    {
      "cell_type": "markdown",
      "metadata": {
        "id": "view-in-github",
        "colab_type": "text"
      },
      "source": [
        "<a href=\"https://colab.research.google.com/github/boguslaw-major/Python3/blob/master/Untitled31.ipynb\" target=\"_parent\"><img src=\"https://colab.research.google.com/assets/colab-badge.svg\" alt=\"Open In Colab\"/></a>"
      ]
    },
    {
      "cell_type": "code",
      "metadata": {
        "id": "yROupCeIAHH7",
        "colab_type": "code",
        "colab": {
          "base_uri": "https://localhost:8080/",
          "height": 85
        },
        "outputId": "b6f7cd52-fe0a-4a90-d934-fdc5daa53103"
      },
      "source": [
        "liczby=[2,10,12,15,20,25,30,36]\n",
        "print(liczby)\n",
        "def funkcja(x):\n",
        "  return x+2\n",
        "\n",
        "wynik=map(funkcja, liczby)\n",
        "print(list(wynik))\n",
        "\n",
        "wynik2=map(lambda x: x+2, liczby)\n",
        "\n",
        "print(list(wynik2))\n",
        "\n",
        "wynik3=filter(lambda x: x% 2==0, liczby)\n",
        "\n",
        "print(list(wynik3))"
      ],
      "execution_count": 13,
      "outputs": [
        {
          "output_type": "stream",
          "text": [
            "[2, 10, 12, 15, 20, 25, 30, 36]\n",
            "[4, 12, 14, 17, 22, 27, 32, 38]\n",
            "[4, 12, 14, 17, 22, 27, 32, 38]\n",
            "[2, 10, 12, 20, 30, 36]\n"
          ],
          "name": "stdout"
        }
      ]
    }
  ]
}