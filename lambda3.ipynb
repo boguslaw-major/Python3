{
  "nbformat": 4,
  "nbformat_minor": 0,
  "metadata": {
    "colab": {
      "name": "Untitled31.ipynb",
      "provenance": [],
      "authorship_tag": "ABX9TyMM4lah72vBYNjwQw/7oJ04",
      "include_colab_link": true
    },
    "kernelspec": {
      "name": "python3",
      "display_name": "Python 3"
    }
  },
  "cells": [
    {
      "cell_type": "markdown",
      "metadata": {
        "id": "view-in-github",
        "colab_type": "text"
      },
      "source": [
        "<a href=\"https://colab.research.google.com/github/boguslaw-major/Python3/blob/master/lambda3.ipynb\" target=\"_parent\"><img src=\"https://colab.research.google.com/assets/colab-badge.svg\" alt=\"Open In Colab\"/></a>"
      ]
    },
    {
      "cell_type": "code",
      "metadata": {
        "id": "yROupCeIAHH7",
        "colab_type": "code",
        "colab": {
          "base_uri": "https://localhost:8080/",
          "height": 136
        },
        "outputId": "5686a62f-09e2-4e1c-e516-a05f60bb7fad"
      },
      "source": [
        "def funkcja(f, liczba):\n",
        "  return f(liczba)\n",
        "print(funkcja(lambda x: x**2, 10))\n",
        "\n",
        "def kwardat(x):\n",
        "  return x**2\n",
        "\n",
        "print(kwardat(5))\n",
        "\n",
        "#realizujemy to wyżej za pomoca lambdy\n",
        "\n",
        "wyn=(lambda x:x*x)(6)\n",
        "print(\"to jest wynik lambdy: \")\n",
        "print(wyn,)\n",
        "\n",
        "lam=lambda x:x*x\n",
        "\n",
        "print(lam(5))\n",
        "\n",
        "#lambda z dwoma argumentami\n",
        "\n",
        "lam2=lambda x,y:x*y\n",
        "\n",
        "print(lam2(2,3))\n",
        "\n",
        "#lambda od razu w print\n",
        "\n",
        "print((lambda x,y: x+y)(5,6))\n"
      ],
      "execution_count": 29,
      "outputs": [
        {
          "output_type": "stream",
          "text": [
            "100\n",
            "25\n",
            "to jest wynik lambdy: \n",
            "36\n",
            "25\n",
            "6\n",
            "11\n"
          ],
          "name": "stdout"
        }
      ]
    },
    {
      "cell_type": "code",
      "metadata": {
        "id": "NbsWoeZOdr64",
        "colab_type": "code",
        "colab": {}
      },
      "source": [
        ""
      ],
      "execution_count": 0,
      "outputs": []
    }
  ]
}