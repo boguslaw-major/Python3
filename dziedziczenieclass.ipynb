{
  "nbformat": 4,
  "nbformat_minor": 0,
  "metadata": {
    "colab": {
      "name": "Untitled24.ipynb",
      "provenance": [],
      "authorship_tag": "ABX9TyOdHeggmdRb5dghDhZL80Ot",
      "include_colab_link": true
    },
    "kernelspec": {
      "name": "python3",
      "display_name": "Python 3"
    }
  },
  "cells": [
    {
      "cell_type": "markdown",
      "metadata": {
        "id": "view-in-github",
        "colab_type": "text"
      },
      "source": [
        "<a href=\"https://colab.research.google.com/github/boguslaw-major/Python3/blob/master/dziedziczenieclass.ipynb\" target=\"_parent\"><img src=\"https://colab.research.google.com/assets/colab-badge.svg\" alt=\"Open In Colab\"/></a>"
      ]
    },
    {
      "cell_type": "code",
      "metadata": {
        "id": "AkBRKuqKDI5T",
        "colab_type": "code",
        "colab": {}
      },
      "source": [
        "#dziedziczenie polega na dzieleniu sie cechami miedzy klasami\n",
        "#dziedziczymy z nad-klasy(wyższej klasy do niższej) do pod-klasy\n",
        "\n",
        "class Ryba():\n",
        "    def __init__(self,imie='Nemo',wiek=0):\n",
        "        self.imie = imie\n",
        "        self.wiek = wiek\n",
        "\n",
        "    def wyswietl(self):\n",
        "        print('Jestem ', self.imie, ' i mam ', self.wiek, ' lat.')\n",
        "\n",
        "class Tunczyk(Ryba):\n",
        "    def __init__(self,imie,wiek):\n",
        "        super().__init__(imie,wiek)\n",
        "\n",
        "    def wyswietl(self):\n",
        "        super().wyswietl()\n",
        "        print('A w dodatku jestem fajnym tunczykiem.')\n",
        "\n",
        "    def pozegnanie(self):\n",
        "        print(self.imie, ' was zegna')\n",
        "\n",
        "\n",
        "james = Ryba('James', 100)\n",
        "george = Tunczyk('George', 34)\n",
        "\n",
        "james.wyswietl()\n",
        "george.wyswietl()\n",
        "#james.pozegnanie()\n",
        "george.pozegnanie()\n",
        "\n",
        "print(type(james))\n",
        "print(type(george))\n",
        "\n",
        "print('czy james jest ryba? ', str(isinstance(james,Ryba)))\n",
        "print('czy james jest tunczykiem? ', str(isinstance(james,Tunczyk)))\n",
        "print('czy george jest ryba? ', str(isinstance(george,Ryba)))\n",
        "print('czy george jest tunczykiem? ', str(isinstance(george,Tunczyk)))"
      ],
      "execution_count": 0,
      "outputs": []
    }
  ]
}