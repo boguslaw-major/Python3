{
  "nbformat": 4,
  "nbformat_minor": 0,
  "metadata": {
    "colab": {
      "name": "Untitled30.ipynb",
      "provenance": [],
      "authorship_tag": "ABX9TyM1F629cmgaHdNM2gihUv6C",
      "include_colab_link": true
    },
    "kernelspec": {
      "name": "python3",
      "display_name": "Python 3"
    }
  },
  "cells": [
    {
      "cell_type": "markdown",
      "metadata": {
        "id": "view-in-github",
        "colab_type": "text"
      },
      "source": [
        "<a href=\"https://colab.research.google.com/github/boguslaw-major/Python3/blob/master/genFib2.ipynb\" target=\"_parent\"><img src=\"https://colab.research.google.com/assets/colab-badge.svg\" alt=\"Open In Colab\"/></a>"
      ]
    },
    {
      "cell_type": "code",
      "metadata": {
        "id": "-GFzk7Ds2EyT",
        "colab_type": "code",
        "colab": {
          "base_uri": "https://localhost:8080/",
          "height": 68
        },
        "outputId": "ed832dce-660c-49d6-d8c1-ff20e9bd01d9"
      },
      "source": [
        "def genFibonacciego(n):\n",
        "  a,b=0,1\n",
        "  for i in range(n+1):\n",
        "    yield a\n",
        "    a,b=b,a+b\n",
        "\n",
        "print(list(genFibonacciego(6)))\n",
        "\n",
        "#tworzymy n pierwszych wyrazow ciagu Fibonacciego za pomoca iteratora\n",
        "\n",
        "class itFib():\n",
        "    def __init__(self, n):\n",
        "        self.a = 0\n",
        "        self.b = 1\n",
        "        self.i = 0\n",
        "        self.n = n\n",
        "        \n",
        "    def __iter__(self):\n",
        "        return self\n",
        "\n",
        "    def __next__(self):\n",
        "        if self.i > self.n:\n",
        "            raise StopIteration\n",
        "        self.i+=1\n",
        "        x = self.a\n",
        "        self.a, self.b = self.b, self.a + self.b\n",
        "        return x\n",
        "\n",
        "lista = []\n",
        "\n",
        "for x in itFib(6):\n",
        "    lista.append(x)\n",
        "\n",
        "print(lista)\n",
        "\n",
        "\n",
        "      "
      ],
      "execution_count": 37,
      "outputs": [
        {
          "output_type": "stream",
          "text": [
            "[0, 1, 1, 2, 3, 5, 8]\n",
            "[0, 1, 1, 2, 3, 5, 8]\n",
            "[0, 1, 1, 2, 3, 5, 8]\n"
          ],
          "name": "stdout"
        }
      ]
    }
  ]
}