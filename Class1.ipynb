{
  "nbformat": 4,
  "nbformat_minor": 0,
  "metadata": {
    "colab": {
      "name": "Untitled24.ipynb",
      "provenance": [],
      "authorship_tag": "ABX9TyPpzr4zsPnXlf0l33CScn5p",
      "include_colab_link": true
    },
    "kernelspec": {
      "name": "python3",
      "display_name": "Python 3"
    }
  },
  "cells": [
    {
      "cell_type": "markdown",
      "metadata": {
        "id": "view-in-github",
        "colab_type": "text"
      },
      "source": [
        "<a href=\"https://colab.research.google.com/github/boguslaw-major/Python3/blob/master/Class1.ipynb\" target=\"_parent\"><img src=\"https://colab.research.google.com/assets/colab-badge.svg\" alt=\"Open In Colab\"/></a>"
      ]
    },
    {
      "cell_type": "code",
      "metadata": {
        "id": "bh7lIQFZIhEs",
        "colab_type": "code",
        "colab": {
          "base_uri": "https://localhost:8080/",
          "height": 237
        },
        "outputId": "3c46544b-6c23-4168-b6a0-0d6212ddd4d0"
      },
      "source": [
        "#klasa to jest nasz typ danych\n",
        "#atrybuty to konkretne dane\n",
        "#metody to funkcje zdefiniowane w obrebie danej klasy\n",
        "#za pomocaąself metoda wchodzi w interakcje z aktualna instacją klasy\n",
        "\n",
        "class osoba:\n",
        "    def __init__(self, imie='Bogdan', wiek=0, zarobki=10000):\n",
        "        self.imie = imie\n",
        "        self.wiek = wiek\n",
        "        self.zarobki = zarobki\n",
        "\n",
        "    def przywitanie(self):\n",
        "        print('Jestem ', self.imie, ' i mam ', self.wiek, ' lat.')\n",
        "\n",
        "ja = osoba('Bogdan',53, 10000)\n",
        "Adam = osoba('Adam',23,4000)\n",
        "Marek = osoba('Marek',40, 2000)\n",
        "\n",
        "Marek.przywitanie()\n",
        "ja.przywitanie()\n",
        "Adam.przywitanie()\n",
        "\n",
        "print(ja.imie)\n",
        "print(ja.wiek)\n",
        "print(ja.zarobki)\n",
        "\n",
        "print(Adam.imie)\n",
        "print(Adam.wiek)\n",
        "print(Adam.zarobki)\n",
        "\n",
        "print(Marek.imie)\n",
        "print(Marek.wiek)\n",
        "print(Marek.zarobki)\n"
      ],
      "execution_count": 15,
      "outputs": [
        {
          "output_type": "stream",
          "text": [
            "Jestem  Marek  i mam  40  lat.\n",
            "Jestem  Bogdan  i mam  53  lat.\n",
            "Jestem  Adam  i mam  23  lat.\n",
            "Bogdan\n",
            "53\n",
            "10000\n",
            "Adam\n",
            "23\n",
            "4000\n",
            "Marek\n",
            "40\n",
            "2000\n"
          ],
          "name": "stdout"
        }
      ]
    }
  ]
}