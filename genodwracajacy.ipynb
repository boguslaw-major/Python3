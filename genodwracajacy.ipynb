{
  "nbformat": 4,
  "nbformat_minor": 0,
  "metadata": {
    "colab": {
      "name": "Untitled30.ipynb",
      "provenance": [],
      "authorship_tag": "ABX9TyPK3IXioRzQmCptWHo/Y1B1",
      "include_colab_link": true
    },
    "kernelspec": {
      "name": "python3",
      "display_name": "Python 3"
    }
  },
  "cells": [
    {
      "cell_type": "markdown",
      "metadata": {
        "id": "view-in-github",
        "colab_type": "text"
      },
      "source": [
        "<a href=\"https://colab.research.google.com/github/boguslaw-major/Python3/blob/master/genodwracajacy.ipynb\" target=\"_parent\"><img src=\"https://colab.research.google.com/assets/colab-badge.svg\" alt=\"Open In Colab\"/></a>"
      ]
    },
    {
      "cell_type": "code",
      "metadata": {
        "id": "-GFzk7Ds2EyT",
        "colab_type": "code",
        "colab": {
          "base_uri": "https://localhost:8080/",
          "height": 527
        },
        "outputId": "e800a3b1-b161-4f8e-9bc7-33cb0ecda6f8"
      },
      "source": [
        "def generator():\n",
        "\n",
        "  yield 1\n",
        "  yield 2\n",
        "  yield 8\n",
        "\n",
        "for i in generator():\n",
        "  print(i)\n",
        "\n",
        "x=generator()\n",
        "\n",
        "print(next(x))\n",
        "print(next(x))\n",
        "print(next(x))\n",
        "\n",
        "def generator2(a,b):\n",
        "  while a<=b:\n",
        "    yield a\n",
        "    a+=1\n",
        "\n",
        "print('')\n",
        "print('generator2:')\n",
        "\n",
        "for i in generator2(2,20):\n",
        "  print(i)\n",
        "print('')\n",
        "print('odwroc:')\n",
        "def odwroc(dane):\n",
        "  for i in range(len(dane)-1,-1,-1):\n",
        "    yield dane[i]\n",
        "for i in odwroc ('kukulka'):\n",
        "  print(i,end='')\n",
        "\n",
        "for i in odwroc((0,1,4,1,True,'k')):\n",
        "  print(i,end='')\n",
        "\n",
        "\n",
        "      "
      ],
      "execution_count": 31,
      "outputs": [
        {
          "output_type": "stream",
          "text": [
            "1\n",
            "2\n",
            "8\n",
            "1\n",
            "2\n",
            "8\n",
            "\n",
            "generator2:\n",
            "2\n",
            "3\n",
            "4\n",
            "5\n",
            "6\n",
            "7\n",
            "8\n",
            "9\n",
            "10\n",
            "11\n",
            "12\n",
            "13\n",
            "14\n",
            "15\n",
            "16\n",
            "17\n",
            "18\n",
            "19\n",
            "20\n",
            "\n",
            "odwroc:\n",
            "aklukukkTrue1410"
          ],
          "name": "stdout"
        }
      ]
    }
  ]
}