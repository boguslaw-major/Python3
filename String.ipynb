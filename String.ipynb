{
  "nbformat": 4,
  "nbformat_minor": 0,
  "metadata": {
    "colab": {
      "name": "Untitled25.ipynb",
      "provenance": [],
      "authorship_tag": "ABX9TyPKyR+kFawMmBeD9TVZeBpU",
      "include_colab_link": true
    },
    "kernelspec": {
      "name": "python3",
      "display_name": "Python 3"
    }
  },
  "cells": [
    {
      "cell_type": "markdown",
      "metadata": {
        "id": "view-in-github",
        "colab_type": "text"
      },
      "source": [
        "<a href=\"https://colab.research.google.com/github/boguslaw-major/Python3/blob/master/String.ipynb\" target=\"_parent\"><img src=\"https://colab.research.google.com/assets/colab-badge.svg\" alt=\"Open In Colab\"/></a>"
      ]
    },
    {
      "cell_type": "code",
      "metadata": {
        "id": "3APzD6Pp-Yx5",
        "colab_type": "code",
        "colab": {
          "base_uri": "https://localhost:8080/",
          "height": 90
        },
        "outputId": "77ee7c50-b29b-4bef-b0b8-b04cb71687fa"
      },
      "source": [
        "imiona=['Antek','Bartek',\"Jarek\",\"Franek\"]\n",
        "\n",
        "for imie in imiona:\n",
        "  print(\"Hallo there, \" + imie)\n",
        "  print(' '.join(['Hello there,', imie]))"
      ],
      "execution_count": 5,
      "outputs": [
        {
          "output_type": "stream",
          "text": [
            "Hello there, Antek\n",
            "Hello there, Bartek\n",
            "Hello there, Jarek\n",
            "Hello there, Franek\n"
          ],
          "name": "stdout"
        }
      ]
    }
  ]
}